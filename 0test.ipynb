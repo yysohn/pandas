{
 "cells": [
  {
   "cell_type": "code",
   "execution_count": 7,
   "id": "3df0b2b3-e1c2-4638-8938-f3a8f4a2f233",
   "metadata": {
    "editable": true,
    "slideshow": {
     "slide_type": ""
    },
    "tags": []
   },
   "outputs": [
    {
     "name": "stdout",
     "output_type": "stream",
     "text": [
      "헬로\n"
     ]
    }
   ],
   "source": [
    "print(\"헬로\")"
   ]
  },
  {
   "cell_type": "code",
   "execution_count": 9,
   "id": "58b83f6e-3309-415e-bb9d-af034bc2af34",
   "metadata": {},
   "outputs": [],
   "source": [
    "import pandas as pd"
   ]
  },
  {
   "cell_type": "code",
   "execution_count": null,
   "id": "a09a1d21-b2ef-402b-a01b-0519bf1f33b3",
   "metadata": {},
   "outputs": [],
   "source": [
    "pd.DataFrame()"
   ]
  }
 ],
 "metadata": {
  "kernelspec": {
   "display_name": "eda_env",
   "language": "python",
   "name": "eda_env"
  },
  "language_info": {
   "codemirror_mode": {
    "name": "ipython",
    "version": 3
   },
   "file_extension": ".py",
   "mimetype": "text/x-python",
   "name": "python",
   "nbconvert_exporter": "python",
   "pygments_lexer": "ipython3",
   "version": "3.12.9"
  }
 },
 "nbformat": 4,
 "nbformat_minor": 5
}
