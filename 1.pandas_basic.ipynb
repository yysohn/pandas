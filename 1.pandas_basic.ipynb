{
 "cells": [
  {
   "cell_type": "markdown",
   "id": "222c3b80-a353-41be-9be6-648a07e28bcc",
   "metadata": {},
   "source": [
    "# 판다스의 시리즈와 데이터프레임 만들기"
   ]
  },
  {
   "cell_type": "markdown",
   "id": "618cc7ec-09f8-47a6-a97e-cbdb88066ff1",
   "metadata": {},
   "source": [
    "## 시리즈 자료 구조"
   ]
  },
  {
   "cell_type": "markdown",
   "id": "905cf139-3e01-491c-a46d-c9ef063bda47",
   "metadata": {},
   "source": [
    "단축키 정리 : esc키 눌러서 명령모드에서 실행\n",
    "- a : 현재 셀의 위쪽에 셀이 추가\n",
    "- b : 현재 셀의 아래쪽에 셀 추가\n",
    "- m : 현재 셀을 마크다운 셀 변경\n",
    "- y : 현재 셀을 명령 셀 변경\n",
    "- tap : 자동 완성 기능\n"
   ]
  },
  {
   "cell_type": "code",
   "execution_count": 44,
   "id": "90492df6-645b-496b-b998-86b8b933456d",
   "metadata": {},
   "outputs": [],
   "source": [
    "import pandas as pd\n",
    "import numpy as np"
   ]
  },
  {
   "cell_type": "code",
   "execution_count": 15,
   "id": "98b5db18-2b6b-41a0-8438-d3b1c78b1dcd",
   "metadata": {},
   "outputs": [
    {
     "data": {
      "text/plain": [
       "numpy.ndarray"
      ]
     },
     "execution_count": 15,
     "metadata": {},
     "output_type": "execute_result"
    }
   ],
   "source": [
    "arr = np.array([1,2,3,4])\n",
    "type(arr)"
   ]
  },
  {
   "cell_type": "code",
   "execution_count": 16,
   "id": "b9376735-d96e-420e-bbad-67d75963ba27",
   "metadata": {},
   "outputs": [
    {
     "data": {
      "text/plain": [
       "0    1\n",
       "1    2\n",
       "2    3\n",
       "3    4\n",
       "dtype: int64"
      ]
     },
     "execution_count": 16,
     "metadata": {},
     "output_type": "execute_result"
    }
   ],
   "source": [
    "pd.Series(arr)"
   ]
  },
  {
   "cell_type": "code",
   "execution_count": 18,
   "id": "e0b0c83b-de8e-4d7d-bace-b280dfae4381",
   "metadata": {},
   "outputs": [
    {
     "data": {
      "text/plain": [
       "pandas.core.series.Series"
      ]
     },
     "execution_count": 18,
     "metadata": {},
     "output_type": "execute_result"
    }
   ],
   "source": [
    "ss = pd.Series(arr)\n",
    "type(ss)"
   ]
  },
  {
   "cell_type": "code",
   "execution_count": 19,
   "id": "31d494b9-35c9-4911-b1b0-e186234c03e9",
   "metadata": {},
   "outputs": [
    {
     "data": {
      "text/plain": [
       "0    1\n",
       "1    2\n",
       "2    3\n",
       "3    4\n",
       "dtype: int64"
      ]
     },
     "execution_count": 19,
     "metadata": {},
     "output_type": "execute_result"
    }
   ],
   "source": [
    "ss"
   ]
  },
  {
   "cell_type": "markdown",
   "id": "1190107c-bdcc-47a7-a6e7-3bc3ca1c9ddc",
   "metadata": {},
   "source": [
    "## DataFrame 자료구조"
   ]
  },
  {
   "cell_type": "markdown",
   "id": "01931c23-d007-48ac-8429-bbb42a404a39",
   "metadata": {},
   "source": [
    "### 방법1. 리스트로 만들기"
   ]
  },
  {
   "cell_type": "code",
   "execution_count": 34,
   "id": "21fac4c0-a54f-4897-af57-99890186bac2",
   "metadata": {},
   "outputs": [
    {
     "data": {
      "text/plain": [
       "[['삼성', 2000, '스마트폰'],\n",
       " ['현대', 2500, '자동차'],\n",
       " ['LG', 3000, '건조기'],\n",
       " ['LG', 7000, '건조기']]"
      ]
     },
     "execution_count": 34,
     "metadata": {},
     "output_type": "execute_result"
    }
   ],
   "source": [
    "company1 = [['삼성', 2000, '스마트폰'],\n",
    "           ['현대', 2500, '자동차'],\n",
    "           ['LG', 3000, '건조기'],\n",
    "            ['LG', 7000, '건조기'],\n",
    "           ]\n",
    "company1"
   ]
  },
  {
   "cell_type": "code",
   "execution_count": 38,
   "id": "1461b822-2535-485f-a98c-eaa9b9164c4d",
   "metadata": {},
   "outputs": [
    {
     "data": {
      "text/html": [
       "<div>\n",
       "<style scoped>\n",
       "    .dataframe tbody tr th:only-of-type {\n",
       "        vertical-align: middle;\n",
       "    }\n",
       "\n",
       "    .dataframe tbody tr th {\n",
       "        vertical-align: top;\n",
       "    }\n",
       "\n",
       "    .dataframe thead th {\n",
       "        text-align: right;\n",
       "    }\n",
       "</style>\n",
       "<table border=\"1\" class=\"dataframe\">\n",
       "  <thead>\n",
       "    <tr style=\"text-align: right;\">\n",
       "      <th></th>\n",
       "      <th>0</th>\n",
       "      <th>1</th>\n",
       "      <th>2</th>\n",
       "    </tr>\n",
       "  </thead>\n",
       "  <tbody>\n",
       "    <tr>\n",
       "      <th>0</th>\n",
       "      <td>삼성</td>\n",
       "      <td>2000</td>\n",
       "      <td>스마트폰</td>\n",
       "    </tr>\n",
       "    <tr>\n",
       "      <th>1</th>\n",
       "      <td>현대</td>\n",
       "      <td>2500</td>\n",
       "      <td>자동차</td>\n",
       "    </tr>\n",
       "    <tr>\n",
       "      <th>2</th>\n",
       "      <td>LG</td>\n",
       "      <td>3000</td>\n",
       "      <td>건조기</td>\n",
       "    </tr>\n",
       "    <tr>\n",
       "      <th>3</th>\n",
       "      <td>LG</td>\n",
       "      <td>7000</td>\n",
       "      <td>건조기</td>\n",
       "    </tr>\n",
       "  </tbody>\n",
       "</table>\n",
       "</div>"
      ],
      "text/plain": [
       "    0     1     2\n",
       "0  삼성  2000  스마트폰\n",
       "1  현대  2500   자동차\n",
       "2  LG  3000   건조기\n",
       "3  LG  7000   건조기"
      ]
     },
     "execution_count": 38,
     "metadata": {},
     "output_type": "execute_result"
    }
   ],
   "source": [
    "pd.DataFrame(company1)"
   ]
  },
  {
   "cell_type": "code",
   "execution_count": 39,
   "id": "70a9e176-d855-4cf4-9dc1-2a483c77ae8e",
   "metadata": {},
   "outputs": [
    {
     "data": {
      "text/html": [
       "<div>\n",
       "<style scoped>\n",
       "    .dataframe tbody tr th:only-of-type {\n",
       "        vertical-align: middle;\n",
       "    }\n",
       "\n",
       "    .dataframe tbody tr th {\n",
       "        vertical-align: top;\n",
       "    }\n",
       "\n",
       "    .dataframe thead th {\n",
       "        text-align: right;\n",
       "    }\n",
       "</style>\n",
       "<table border=\"1\" class=\"dataframe\">\n",
       "  <thead>\n",
       "    <tr style=\"text-align: right;\">\n",
       "      <th></th>\n",
       "      <th>0</th>\n",
       "      <th>1</th>\n",
       "      <th>2</th>\n",
       "    </tr>\n",
       "  </thead>\n",
       "  <tbody>\n",
       "    <tr>\n",
       "      <th>0</th>\n",
       "      <td>삼성</td>\n",
       "      <td>2000</td>\n",
       "      <td>스마트폰</td>\n",
       "    </tr>\n",
       "    <tr>\n",
       "      <th>1</th>\n",
       "      <td>현대</td>\n",
       "      <td>2500</td>\n",
       "      <td>자동차</td>\n",
       "    </tr>\n",
       "    <tr>\n",
       "      <th>2</th>\n",
       "      <td>LG</td>\n",
       "      <td>3000</td>\n",
       "      <td>건조기</td>\n",
       "    </tr>\n",
       "    <tr>\n",
       "      <th>3</th>\n",
       "      <td>LG</td>\n",
       "      <td>7000</td>\n",
       "      <td>건조기</td>\n",
       "    </tr>\n",
       "  </tbody>\n",
       "</table>\n",
       "</div>"
      ],
      "text/plain": [
       "    0     1     2\n",
       "0  삼성  2000  스마트폰\n",
       "1  현대  2500   자동차\n",
       "2  LG  3000   건조기\n",
       "3  LG  7000   건조기"
      ]
     },
     "execution_count": 39,
     "metadata": {},
     "output_type": "execute_result"
    }
   ],
   "source": [
    "df1 = pd.DataFrame(company1)\n",
    "df1"
   ]
  },
  {
   "cell_type": "markdown",
   "id": "fb34ca17-285c-40b4-bfa0-983e9b5a47bb",
   "metadata": {},
   "source": [
    "## 컬럼 제목 만들기"
   ]
  },
  {
   "cell_type": "code",
   "execution_count": 40,
   "id": "d01e1d3a-bd35-42dc-a4fd-88f9eee21989",
   "metadata": {},
   "outputs": [
    {
     "data": {
      "text/html": [
       "<div>\n",
       "<style scoped>\n",
       "    .dataframe tbody tr th:only-of-type {\n",
       "        vertical-align: middle;\n",
       "    }\n",
       "\n",
       "    .dataframe tbody tr th {\n",
       "        vertical-align: top;\n",
       "    }\n",
       "\n",
       "    .dataframe thead th {\n",
       "        text-align: right;\n",
       "    }\n",
       "</style>\n",
       "<table border=\"1\" class=\"dataframe\">\n",
       "  <thead>\n",
       "    <tr style=\"text-align: right;\">\n",
       "      <th></th>\n",
       "      <th>기업명</th>\n",
       "      <th>매출액</th>\n",
       "      <th>업종</th>\n",
       "    </tr>\n",
       "  </thead>\n",
       "  <tbody>\n",
       "    <tr>\n",
       "      <th>0</th>\n",
       "      <td>삼성</td>\n",
       "      <td>2000</td>\n",
       "      <td>스마트폰</td>\n",
       "    </tr>\n",
       "    <tr>\n",
       "      <th>1</th>\n",
       "      <td>현대</td>\n",
       "      <td>2500</td>\n",
       "      <td>자동차</td>\n",
       "    </tr>\n",
       "    <tr>\n",
       "      <th>2</th>\n",
       "      <td>LG</td>\n",
       "      <td>3000</td>\n",
       "      <td>건조기</td>\n",
       "    </tr>\n",
       "    <tr>\n",
       "      <th>3</th>\n",
       "      <td>LG</td>\n",
       "      <td>7000</td>\n",
       "      <td>건조기</td>\n",
       "    </tr>\n",
       "  </tbody>\n",
       "</table>\n",
       "</div>"
      ],
      "text/plain": [
       "  기업명   매출액    업종\n",
       "0  삼성  2000  스마트폰\n",
       "1  현대  2500   자동차\n",
       "2  LG  3000   건조기\n",
       "3  LG  7000   건조기"
      ]
     },
     "execution_count": 40,
     "metadata": {},
     "output_type": "execute_result"
    }
   ],
   "source": [
    "df1.columns = ['기업명', '매출액', '업종']\n",
    "df1"
   ]
  },
  {
   "cell_type": "code",
   "execution_count": 41,
   "id": "d49b2e99-360a-4c57-bee7-37e661065175",
   "metadata": {},
   "outputs": [
    {
     "data": {
      "text/html": [
       "<div>\n",
       "<style scoped>\n",
       "    .dataframe tbody tr th:only-of-type {\n",
       "        vertical-align: middle;\n",
       "    }\n",
       "\n",
       "    .dataframe tbody tr th {\n",
       "        vertical-align: top;\n",
       "    }\n",
       "\n",
       "    .dataframe thead th {\n",
       "        text-align: right;\n",
       "    }\n",
       "</style>\n",
       "<table border=\"1\" class=\"dataframe\">\n",
       "  <thead>\n",
       "    <tr style=\"text-align: right;\">\n",
       "      <th></th>\n",
       "      <th>기업명</th>\n",
       "      <th>매출액</th>\n",
       "      <th>업종</th>\n",
       "    </tr>\n",
       "  </thead>\n",
       "  <tbody>\n",
       "    <tr>\n",
       "      <th>0</th>\n",
       "      <td>삼성</td>\n",
       "      <td>2000</td>\n",
       "      <td>스마트폰</td>\n",
       "    </tr>\n",
       "    <tr>\n",
       "      <th>1</th>\n",
       "      <td>현대</td>\n",
       "      <td>2500</td>\n",
       "      <td>자동차</td>\n",
       "    </tr>\n",
       "    <tr>\n",
       "      <th>2</th>\n",
       "      <td>LG</td>\n",
       "      <td>3000</td>\n",
       "      <td>건조기</td>\n",
       "    </tr>\n",
       "    <tr>\n",
       "      <th>3</th>\n",
       "      <td>LG</td>\n",
       "      <td>7000</td>\n",
       "      <td>건조기</td>\n",
       "    </tr>\n",
       "  </tbody>\n",
       "</table>\n",
       "</div>"
      ],
      "text/plain": [
       "  기업명   매출액    업종\n",
       "0  삼성  2000  스마트폰\n",
       "1  현대  2500   자동차\n",
       "2  LG  3000   건조기\n",
       "3  LG  7000   건조기"
      ]
     },
     "execution_count": 41,
     "metadata": {},
     "output_type": "execute_result"
    }
   ],
   "source": [
    "# 2d 데이터를 컬럼명을 부여하여 DF 만들기\n",
    "df1 = pd.DataFrame(company1,columns=['기업명', '매출액', '업종'])\n",
    "df1"
   ]
  },
  {
   "cell_type": "markdown",
   "id": "f468b3ac-ea0d-4412-9098-11fae60e7486",
   "metadata": {},
   "source": [
    "### 방법2. dict로 DF만들기\n",
    "- key value로 만들기"
   ]
  },
  {
   "cell_type": "code",
   "execution_count": 29,
   "id": "b3348345-1de1-4db9-82ae-6af8629a1b77",
   "metadata": {},
   "outputs": [],
   "source": [
    "company2 = {'기업명':['삼성', '현대', 'LG'], \n",
    "            '매출액': [2000, 2500, 3000], \n",
    "            '업종': ['스마트폰', '자동차', '건조기']\n",
    "           }"
   ]
  },
  {
   "cell_type": "code",
   "execution_count": 30,
   "id": "f205f61f-dc17-4a00-ac88-cfef0b312750",
   "metadata": {},
   "outputs": [
    {
     "data": {
      "text/html": [
       "<div>\n",
       "<style scoped>\n",
       "    .dataframe tbody tr th:only-of-type {\n",
       "        vertical-align: middle;\n",
       "    }\n",
       "\n",
       "    .dataframe tbody tr th {\n",
       "        vertical-align: top;\n",
       "    }\n",
       "\n",
       "    .dataframe thead th {\n",
       "        text-align: right;\n",
       "    }\n",
       "</style>\n",
       "<table border=\"1\" class=\"dataframe\">\n",
       "  <thead>\n",
       "    <tr style=\"text-align: right;\">\n",
       "      <th></th>\n",
       "      <th>기업명</th>\n",
       "      <th>매출액</th>\n",
       "      <th>업종</th>\n",
       "    </tr>\n",
       "  </thead>\n",
       "  <tbody>\n",
       "    <tr>\n",
       "      <th>0</th>\n",
       "      <td>삼성</td>\n",
       "      <td>2000</td>\n",
       "      <td>스마트폰</td>\n",
       "    </tr>\n",
       "    <tr>\n",
       "      <th>1</th>\n",
       "      <td>현대</td>\n",
       "      <td>2500</td>\n",
       "      <td>자동차</td>\n",
       "    </tr>\n",
       "    <tr>\n",
       "      <th>2</th>\n",
       "      <td>LG</td>\n",
       "      <td>3000</td>\n",
       "      <td>건조기</td>\n",
       "    </tr>\n",
       "  </tbody>\n",
       "</table>\n",
       "</div>"
      ],
      "text/plain": [
       "  기업명   매출액    업종\n",
       "0  삼성  2000  스마트폰\n",
       "1  현대  2500   자동차\n",
       "2  LG  3000   건조기"
      ]
     },
     "execution_count": 30,
     "metadata": {},
     "output_type": "execute_result"
    }
   ],
   "source": [
    "df2 = pd.DataFrame(company2)\n",
    "df2"
   ]
  },
  {
   "cell_type": "code",
   "execution_count": 37,
   "id": "12444113-5e22-40e1-92a1-7d442dea0722",
   "metadata": {},
   "outputs": [
    {
     "data": {
      "text/plain": [
       "Index(['기업명', '매출액', '업종'], dtype='object')"
      ]
     },
     "execution_count": 37,
     "metadata": {},
     "output_type": "execute_result"
    }
   ],
   "source": [
    "df2.columns"
   ]
  },
  {
   "cell_type": "markdown",
   "id": "72a95e4d-6375-443e-bc5f-4aa0125570f3",
   "metadata": {},
   "source": [
    "### 특정컬럼으로 인덱스"
   ]
  },
  {
   "cell_type": "code",
   "execution_count": 36,
   "id": "dd64699b-beca-461b-ad80-75b574eebbf9",
   "metadata": {},
   "outputs": [
    {
     "data": {
      "text/plain": [
       "0    삼성\n",
       "1    현대\n",
       "2    LG\n",
       "Name: 기업명, dtype: object"
      ]
     },
     "execution_count": 36,
     "metadata": {},
     "output_type": "execute_result"
    }
   ],
   "source": [
    "df1['기업명']"
   ]
  },
  {
   "cell_type": "code",
   "execution_count": 35,
   "id": "be5a0b7b-c537-49c2-8969-ed68784fad70",
   "metadata": {},
   "outputs": [
    {
     "data": {
      "text/html": [
       "<div>\n",
       "<style scoped>\n",
       "    .dataframe tbody tr th:only-of-type {\n",
       "        vertical-align: middle;\n",
       "    }\n",
       "\n",
       "    .dataframe tbody tr th {\n",
       "        vertical-align: top;\n",
       "    }\n",
       "\n",
       "    .dataframe thead th {\n",
       "        text-align: right;\n",
       "    }\n",
       "</style>\n",
       "<table border=\"1\" class=\"dataframe\">\n",
       "  <thead>\n",
       "    <tr style=\"text-align: right;\">\n",
       "      <th></th>\n",
       "      <th>기업명</th>\n",
       "      <th>매출액</th>\n",
       "      <th>업종</th>\n",
       "    </tr>\n",
       "    <tr>\n",
       "      <th>기업명</th>\n",
       "      <th></th>\n",
       "      <th></th>\n",
       "      <th></th>\n",
       "    </tr>\n",
       "  </thead>\n",
       "  <tbody>\n",
       "    <tr>\n",
       "      <th>삼성</th>\n",
       "      <td>삼성</td>\n",
       "      <td>2000</td>\n",
       "      <td>스마트폰</td>\n",
       "    </tr>\n",
       "    <tr>\n",
       "      <th>현대</th>\n",
       "      <td>현대</td>\n",
       "      <td>2500</td>\n",
       "      <td>자동차</td>\n",
       "    </tr>\n",
       "    <tr>\n",
       "      <th>LG</th>\n",
       "      <td>LG</td>\n",
       "      <td>3000</td>\n",
       "      <td>건조기</td>\n",
       "    </tr>\n",
       "  </tbody>\n",
       "</table>\n",
       "</div>"
      ],
      "text/plain": [
       "    기업명   매출액    업종\n",
       "기업명                \n",
       "삼성   삼성  2000  스마트폰\n",
       "현대   현대  2500   자동차\n",
       "LG   LG  3000   건조기"
      ]
     },
     "execution_count": 35,
     "metadata": {},
     "output_type": "execute_result"
    }
   ],
   "source": [
    "df2.index = df1['기업명']\n",
    "df2"
   ]
  },
  {
   "cell_type": "markdown",
   "id": "88b91c4a-5c75-4baf-932d-a101eb3acdc6",
   "metadata": {},
   "source": [
    "[문제1] 다음의 정보를 데이터 프레임으로 만들기\n",
    "이름, 포지션, 나이\n",
    "진, 서브보컬, 28\n",
    "슈가, 리드래퍼, 28\n",
    "제이홉, 서브래퍼, 27\n",
    "RM, 리더, 26\n",
    "지민, 리드보컬, 25\n",
    "뷔, 리드댄서, 25\n",
    "정국, 리드댄서,23"
   ]
  },
  {
   "cell_type": "code",
   "execution_count": 46,
   "id": "a57ac6b1-81a1-467c-aa04-e81dccc3d422",
   "metadata": {},
   "outputs": [
    {
     "data": {
      "text/plain": [
       "[['진', '서브보컬', 28],\n",
       " ['슈가', '리드래퍼', 28],\n",
       " ['제이홉', '서브래퍼', 27],\n",
       " ['RM', '리더', 26],\n",
       " ['지민', '리드보컬', 25],\n",
       " ['뷔', '리드댄서', 25],\n",
       " ['정국', '리드댄서', 23]]"
      ]
     },
     "execution_count": 46,
     "metadata": {},
     "output_type": "execute_result"
    }
   ],
   "source": [
    "singer = [['진', '서브보컬', 28],\n",
    "           ['슈가', '리드래퍼', 28],\n",
    "           ['제이홉', '서브래퍼', 27],\n",
    "           ['RM', '리더', 26],\n",
    "           ['지민', '리드보컬', 25],\n",
    "           ['뷔', '리드댄서', 25],\n",
    "           ['정국', '리드댄서',23],\n",
    "           ]\n",
    "singer"
   ]
  },
  {
   "cell_type": "code",
   "execution_count": 47,
   "id": "58801476-f631-4007-8434-786556fdacfe",
   "metadata": {},
   "outputs": [
    {
     "data": {
      "text/html": [
       "<div>\n",
       "<style scoped>\n",
       "    .dataframe tbody tr th:only-of-type {\n",
       "        vertical-align: middle;\n",
       "    }\n",
       "\n",
       "    .dataframe tbody tr th {\n",
       "        vertical-align: top;\n",
       "    }\n",
       "\n",
       "    .dataframe thead th {\n",
       "        text-align: right;\n",
       "    }\n",
       "</style>\n",
       "<table border=\"1\" class=\"dataframe\">\n",
       "  <thead>\n",
       "    <tr style=\"text-align: right;\">\n",
       "      <th></th>\n",
       "      <th>이름</th>\n",
       "      <th>포지션</th>\n",
       "      <th>나이</th>\n",
       "    </tr>\n",
       "  </thead>\n",
       "  <tbody>\n",
       "    <tr>\n",
       "      <th>0</th>\n",
       "      <td>진</td>\n",
       "      <td>서브보컬</td>\n",
       "      <td>28</td>\n",
       "    </tr>\n",
       "    <tr>\n",
       "      <th>1</th>\n",
       "      <td>슈가</td>\n",
       "      <td>리드래퍼</td>\n",
       "      <td>28</td>\n",
       "    </tr>\n",
       "    <tr>\n",
       "      <th>2</th>\n",
       "      <td>제이홉</td>\n",
       "      <td>서브래퍼</td>\n",
       "      <td>27</td>\n",
       "    </tr>\n",
       "    <tr>\n",
       "      <th>3</th>\n",
       "      <td>RM</td>\n",
       "      <td>리더</td>\n",
       "      <td>26</td>\n",
       "    </tr>\n",
       "    <tr>\n",
       "      <th>4</th>\n",
       "      <td>지민</td>\n",
       "      <td>리드보컬</td>\n",
       "      <td>25</td>\n",
       "    </tr>\n",
       "    <tr>\n",
       "      <th>5</th>\n",
       "      <td>뷔</td>\n",
       "      <td>리드댄서</td>\n",
       "      <td>25</td>\n",
       "    </tr>\n",
       "    <tr>\n",
       "      <th>6</th>\n",
       "      <td>정국</td>\n",
       "      <td>리드댄서</td>\n",
       "      <td>23</td>\n",
       "    </tr>\n",
       "  </tbody>\n",
       "</table>\n",
       "</div>"
      ],
      "text/plain": [
       "    이름   포지션  나이\n",
       "0    진  서브보컬  28\n",
       "1   슈가  리드래퍼  28\n",
       "2  제이홉  서브래퍼  27\n",
       "3   RM    리더  26\n",
       "4   지민  리드보컬  25\n",
       "5    뷔  리드댄서  25\n",
       "6   정국  리드댄서  23"
      ]
     },
     "execution_count": 47,
     "metadata": {},
     "output_type": "execute_result"
    }
   ],
   "source": [
    "df1 = pd.DataFrame(singer,columns=['이름', '포지션', '나이'])\n",
    "df1"
   ]
  },
  {
   "cell_type": "markdown",
   "id": "348f107f-ecaa-407c-bf57-89802a543555",
   "metadata": {},
   "source": [
    "[문제2] 데이터 프레임 만들기\n",
    "- numpy 1~39까지 2의 홀수로 저장\n",
    "- 4개의 컬럼으로 이뤄진 DataFrame으로 만들기\n",
    "- 컬럼 이름 '1열','2열', '3열,'4열' 로 적용하기"
   ]
  },
  {
   "cell_type": "code",
   "execution_count": 60,
   "id": "d7f8db21-35ec-4656-8b7a-b5c00e1c3cb3",
   "metadata": {},
   "outputs": [],
   "source": [
    "# np.arrange(start, stop, step)\n",
    "nums = np.arange(1, 40, 2)\n",
    "# 5 X 4 2D 행령모양 만들기\n",
    "# nums.reshape(5, 4) \n",
    "# nums.reshape(-1, 4)"
   ]
  },
  {
   "cell_type": "code",
   "execution_count": 61,
   "id": "5e9bc9a4-ce69-42d1-a189-7bc34619db62",
   "metadata": {},
   "outputs": [
    {
     "data": {
      "text/html": [
       "<div>\n",
       "<style scoped>\n",
       "    .dataframe tbody tr th:only-of-type {\n",
       "        vertical-align: middle;\n",
       "    }\n",
       "\n",
       "    .dataframe tbody tr th {\n",
       "        vertical-align: top;\n",
       "    }\n",
       "\n",
       "    .dataframe thead th {\n",
       "        text-align: right;\n",
       "    }\n",
       "</style>\n",
       "<table border=\"1\" class=\"dataframe\">\n",
       "  <thead>\n",
       "    <tr style=\"text-align: right;\">\n",
       "      <th></th>\n",
       "      <th>1열</th>\n",
       "      <th>2열</th>\n",
       "      <th>3열</th>\n",
       "      <th>4열</th>\n",
       "    </tr>\n",
       "  </thead>\n",
       "  <tbody>\n",
       "    <tr>\n",
       "      <th>0</th>\n",
       "      <td>1</td>\n",
       "      <td>3</td>\n",
       "      <td>5</td>\n",
       "      <td>7</td>\n",
       "    </tr>\n",
       "    <tr>\n",
       "      <th>1</th>\n",
       "      <td>9</td>\n",
       "      <td>11</td>\n",
       "      <td>13</td>\n",
       "      <td>15</td>\n",
       "    </tr>\n",
       "    <tr>\n",
       "      <th>2</th>\n",
       "      <td>17</td>\n",
       "      <td>19</td>\n",
       "      <td>21</td>\n",
       "      <td>23</td>\n",
       "    </tr>\n",
       "    <tr>\n",
       "      <th>3</th>\n",
       "      <td>25</td>\n",
       "      <td>27</td>\n",
       "      <td>29</td>\n",
       "      <td>31</td>\n",
       "    </tr>\n",
       "    <tr>\n",
       "      <th>4</th>\n",
       "      <td>33</td>\n",
       "      <td>35</td>\n",
       "      <td>37</td>\n",
       "      <td>39</td>\n",
       "    </tr>\n",
       "  </tbody>\n",
       "</table>\n",
       "</div>"
      ],
      "text/plain": [
       "   1열  2열  3열  4열\n",
       "0   1   3   5   7\n",
       "1   9  11  13  15\n",
       "2  17  19  21  23\n",
       "3  25  27  29  31\n",
       "4  33  35  37  39"
      ]
     },
     "execution_count": 61,
     "metadata": {},
     "output_type": "execute_result"
    }
   ],
   "source": [
    "df1 = pd.DataFrame(nums.reshape(-1, 4), columns=['1열', '2열', '3열', '4열'])\n",
    "df1"
   ]
  },
  {
   "cell_type": "code",
   "execution_count": null,
   "id": "52bf06db-ecd7-4527-8981-8649e0ad39d1",
   "metadata": {
    "editable": true,
    "slideshow": {
     "slide_type": ""
    },
    "tags": []
   },
   "outputs": [],
   "source": []
  }
 ],
 "metadata": {
  "kernelspec": {
   "display_name": "eda_env",
   "language": "python",
   "name": "eda_env"
  },
  "language_info": {
   "codemirror_mode": {
    "name": "ipython",
    "version": 3
   },
   "file_extension": ".py",
   "mimetype": "text/x-python",
   "name": "python",
   "nbconvert_exporter": "python",
   "pygments_lexer": "ipython3",
   "version": "3.12.9"
  }
 },
 "nbformat": 4,
 "nbformat_minor": 5
}
